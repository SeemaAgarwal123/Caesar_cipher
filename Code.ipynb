{
 "cells": [
  {
   "cell_type": "markdown",
   "metadata": {},
   "source": [
    "# Homework #1 - Python Essentials"
   ]
  },
  {
   "cell_type": "markdown",
   "metadata": {},
   "source": [
    "## Exercise #1"
   ]
  },
  {
   "cell_type": "markdown",
   "metadata": {},
   "source": [
    "### Exercise #1.1"
   ]
  },
  {
   "cell_type": "code",
   "execution_count": 22,
   "metadata": {},
   "outputs": [],
   "source": [
    "import string                                     #importing the string module\n",
    "\n",
    "def shift_alpha(a,shift=0):                       #defining function shift_alpha\n",
    "    dict={}\n",
    "    for i in a:                          \n",
    "        if i not in dict.keys():                  #check if the character is a dictionary key or not\n",
    "            if(i in string.ascii_uppercase):      #check if the character is in ascii_uppercase\n",
    "                index=(ord(i)-65+shift)%26        #to keep index in the uppercase characters ,performed modulus arithmetic\n",
    "                dict[i]=chr(index+65)             \n",
    "            elif(i in string.ascii_lowercase):    #check if the character is in ascii_lowercase ,performed modulus arithmetic\n",
    "                index=(ord(i)-97+shift)%26        #to keep index in the lowercase characters ,performed modulus arithmetic\n",
    "                dict[i]=chr(index+97)\n",
    "    print(dict) "
   ]
  },
  {
   "cell_type": "markdown",
   "metadata": {},
   "source": [
    "### Exercise #1.2"
   ]
  },
  {
   "cell_type": "code",
   "execution_count": 23,
   "metadata": {},
   "outputs": [
    {
     "name": "stdout",
     "output_type": "stream",
     "text": [
      "{'A': 'A', 'B': 'B', 'C': 'C', 'D': 'D', 'E': 'E', 'F': 'F', 'G': 'G', 'H': 'H', 'I': 'I', 'J': 'J', 'K': 'K', 'L': 'L', 'M': 'M', 'N': 'N', 'O': 'O', 'P': 'P', 'Q': 'Q', 'R': 'R', 'S': 'S', 'T': 'T', 'U': 'U', 'V': 'V', 'W': 'W', 'X': 'X', 'Y': 'Y', 'Z': 'Z'}\n"
     ]
    }
   ],
   "source": [
    "shift_alpha(string.ascii_uppercase,0)                #call to shift_alpha with shift parameter set to 0"
   ]
  },
  {
   "cell_type": "markdown",
   "metadata": {},
   "source": [
    "### Exercise #1.3"
   ]
  },
  {
   "cell_type": "code",
   "execution_count": 24,
   "metadata": {},
   "outputs": [
    {
     "name": "stdout",
     "output_type": "stream",
     "text": [
      "{'A': 'P', 'B': 'Q', 'C': 'R', 'D': 'S', 'E': 'T', 'F': 'U', 'G': 'V', 'H': 'W', 'I': 'X', 'J': 'Y', 'K': 'Z', 'L': 'A', 'M': 'B', 'N': 'C', 'O': 'D', 'P': 'E', 'Q': 'F', 'R': 'G', 'S': 'H', 'T': 'I', 'U': 'J', 'V': 'K', 'W': 'L', 'X': 'M', 'Y': 'N', 'Z': 'O'}\n"
     ]
    }
   ],
   "source": [
    "shift_alpha(string.ascii_uppercase,-11)                #call to shift_alpha with shift parameter set to -11"
   ]
  },
  {
   "cell_type": "markdown",
   "metadata": {},
   "source": [
    "### Exercise #1.4"
   ]
  },
  {
   "cell_type": "code",
   "execution_count": 25,
   "metadata": {},
   "outputs": [
    {
     "name": "stdout",
     "output_type": "stream",
     "text": [
      "{'A': 'H', 'B': 'I', 'C': 'J', 'D': 'K', 'E': 'L', 'F': 'M', 'G': 'N', 'H': 'O', 'I': 'P', 'J': 'Q', 'K': 'R', 'L': 'S', 'M': 'T', 'N': 'U', 'O': 'V', 'P': 'W', 'Q': 'X', 'R': 'Y', 'S': 'Z', 'T': 'A', 'U': 'B', 'V': 'C', 'W': 'D', 'X': 'E', 'Y': 'F', 'Z': 'G'}\n"
     ]
    }
   ],
   "source": [
    "shift_alpha(string.ascii_uppercase,7)                  #call to shift_alpha with shift parameter set to 7"
   ]
  },
  {
   "cell_type": "markdown",
   "metadata": {},
   "source": [
    "## Exercise #2"
   ]
  },
  {
   "cell_type": "markdown",
   "metadata": {},
   "source": [
    "### Exercise #2.1"
   ]
  },
  {
   "cell_type": "code",
   "execution_count": 26,
   "metadata": {},
   "outputs": [
    {
     "name": "stdout",
     "output_type": "stream",
     "text": [
      "JgNNq *\n"
     ]
    }
   ],
   "source": [
    "import string                                                #importing the string module\n",
    "\n",
    "def encrypt(a,shift=0):                                      #defining function shift_alpha\n",
    "    dict={}\n",
    "    for i in a:\n",
    "        if i not in dict.keys():                             #check if the character is a dictionary key or not                            \n",
    "            if(i in string.ascii_uppercase):                 #check if the character is in ascii_uppercase\n",
    "                index=(ord(i)-65+shift)%26                   #to keep index in the uppercase characters ,performed modulus arithmetic\n",
    "                dict[i]=chr(index+65)\n",
    "            elif(i in string.ascii_lowercase):               #check if the character is in ascii_lowercase             \n",
    "                index=(ord(i)-97+shift)%26                   #to keep index in the lowercase characters ,performed modulus arithmetic\n",
    "                dict[i]=chr(index+97)\n",
    "            else:\n",
    "                dict[i]=i                                    #if non-alphabetic character then value is same as key \n",
    "    b=\"\"                                                     #creating empty string b\n",
    "    for i in a:\n",
    "        b=b+dict[i]                                          #appending corresponding value of character in dict to the string\n",
    "    print(b) \n",
    "\n",
    "encrypt(\"HeLLo *\",2)                                        # call to encrypt with shift parameter set to 2\n"
   ]
  },
  {
   "cell_type": "markdown",
   "metadata": {},
   "source": [
    "### Exercise 2.2"
   ]
  },
  {
   "cell_type": "code",
   "execution_count": 27,
   "metadata": {},
   "outputs": [
    {
     "name": "stdout",
     "output_type": "stream",
     "text": [
      "Kq. ByFJgl :-)\n"
     ]
    }
   ],
   "source": [
    "encrypt(\"Ms. DaHLin :-)\",-2)                                # call to encrypt with shift parameter set to -2"
   ]
  },
  {
   "cell_type": "markdown",
   "metadata": {},
   "source": [
    "### Exercise 2.3"
   ]
  },
  {
   "cell_type": "code",
   "execution_count": 28,
   "metadata": {
    "scrolled": true
   },
   "outputs": [
    {
     "name": "stdout",
     "output_type": "stream",
     "text": [
      "Gnqqnj Jnqnxm\n",
      "Rfwdqfsi\n",
      "Wtzyj 1\n",
      "QfYjC\n",
      "ybjsyd-knwxy hjsyzwd\n"
     ]
    }
   ],
   "source": [
    "li=[\"Billie Eilish\", \"Maryland\", \"Route 1\", \"LaTeX\", \"twenty-first century\"]      #creating a list li\n",
    "for i in range(len(li)):                                         # loop through the elements of the list li\n",
    "    encrypt(li[i],5)                                             # call to encrypt with shift parameter set to 5"
   ]
  },
  {
   "cell_type": "markdown",
   "metadata": {},
   "source": [
    "## Exercise 3"
   ]
  },
  {
   "cell_type": "markdown",
   "metadata": {},
   "source": [
    "### Exercise 3.1"
   ]
  },
  {
   "cell_type": "code",
   "execution_count": 45,
   "metadata": {},
   "outputs": [
    {
     "name": "stdout",
     "output_type": "stream",
     "text": [
      "1 U xahq Ye. Pmtxuz'e oxmee. --Result on shift -12\n",
      "2 V ybir Zf. Qnuyva'f pynff. --Result on shift -11\n",
      "3 W zcjs Ag. Rovzwb'g qzogg. --Result on shift -10\n",
      "4 X adkt Bh. Spwaxc'h raphh. --Result on shift -9\n",
      "5 Y belu Ci. Tqxbyd'i sbqii. --Result on shift -8\n",
      "6 Z cfmv Dj. Urycze'j tcrjj. --Result on shift -7\n",
      "7 A dgnw Ek. Vszdaf'k udskk. --Result on shift -6\n",
      "8 B ehox Fl. Wtaebg'l vetll. --Result on shift -5\n",
      "9 C fipy Gm. Xubfch'm wfumm. --Result on shift -4\n",
      "10 D gjqz Hn. Yvcgdi'n xgvnn. --Result on shift -3\n",
      "11 E hkra Io. Zwdhej'o yhwoo. --Result on shift -2\n",
      "12 F ilsb Jp. Axeifk'p zixpp. --Result on shift -1\n",
      "13 G jmtc Kq. Byfjgl'q ajyqq. --Result on shift 0\n",
      "14 H knud Lr. Czgkhm'r bkzrr. --Result on shift 1\n",
      "15 I love Ms. Dahlin's class. --Result on shift 2\n",
      "16 J mpwf Nt. Ebimjo't dmbtt. --Result on shift 3\n",
      "17 K nqxg Ou. Fcjnkp'u encuu. --Result on shift 4\n",
      "18 L oryh Pv. Gdkolq'v fodvv. --Result on shift 5\n",
      "19 M pszi Qw. Helpmr'w gpeww. --Result on shift 6\n",
      "20 N qtaj Rx. Ifmqns'x hqfxx. --Result on shift 7\n",
      "21 O rubk Sy. Jgnrot'y irgyy. --Result on shift 8\n",
      "22 P svcl Tz. Khospu'z jshzz. --Result on shift 9\n",
      "23 Q twdm Ua. Liptqv'a ktiaa. --Result on shift 10\n",
      "24 R uxen Vb. Mjqurw'b lujbb. --Result on shift 11\n",
      "25 S vyfo Wc. Nkrvsx'c mvkcc. --Result on shift 12\n",
      "26 T wzgp Xd. Olswty'd nwldd. --Result on shift 13\n"
     ]
    }
   ],
   "source": [
    "import string                                                  #importing the string module \n",
    "\n",
    "def decrypt(a,shift=0):                                        #defining function decrypt\n",
    "    for shift in range(-12,14):\n",
    "        dict={}\n",
    "        for i in a:\n",
    "            if i not in dict.keys():                           #check if the character is a dictionary key or not  \n",
    "                if(i in string.ascii_uppercase):               #check if the character is in ascii_uppercase  \n",
    "                    index=(ord(i)-65+shift)%26                 #to keep index in the uppercase characters ,performed modulus arithmetic\n",
    "                    dict[i]=chr(index+65)\n",
    "                elif(i in string.ascii_lowercase):             #check if the character is in ascii_lowercase  \n",
    "                    index=(ord(i)-97+shift)%26                 #to keep index in the lowercase characters ,performed modulus arithmetic\n",
    "                    dict[i]=chr(index+97)\n",
    "                else:\n",
    "                    dict[i]=i                                 #if non-alphabetic character then value is same as key \n",
    "        b=\"\"                                                  #creating empty string b   \n",
    "        for i in a:            \n",
    "            b=b+dict[i]                                       #appending corresponding value of character in dict to the string\n",
    "        print(shift+13,b,\"--Result on shift\",shift)\n",
    "decrypt(\"G jmtc Kq. Byfjgl'q ajyqq.\")                         #call to decrypt function\n"
   ]
  },
  {
   "cell_type": "markdown",
   "metadata": {},
   "source": [
    "### Shift 2 gave the result \"I love Ms. Dahlin's class.\""
   ]
  },
  {
   "cell_type": "markdown",
   "metadata": {},
   "source": [
    "### Exercise 3.2"
   ]
  },
  {
   "cell_type": "markdown",
   "metadata": {},
   "source": [
    "### Exercise 3.2.a"
   ]
  },
  {
   "cell_type": "code",
   "execution_count": 46,
   "metadata": {},
   "outputs": [
    {
     "name": "stdout",
     "output_type": "stream",
     "text": [
      "1 Gkqbyjo yi dej qd qsj, yj yi q xqryj. --Result on shift -12\n",
      "2 Hlrczkp zj efk re rtk, zk zj r yrszk. --Result on shift -11\n",
      "3 Imsdalq ak fgl sf sul, al ak s zstal. --Result on shift -10\n",
      "4 Jntebmr bl ghm tg tvm, bm bl t atubm. --Result on shift -9\n",
      "5 Koufcns cm hin uh uwn, cn cm u buvcn. --Result on shift -8\n",
      "6 Lpvgdot dn ijo vi vxo, do dn v cvwdo. --Result on shift -7\n",
      "7 Mqwhepu eo jkp wj wyp, ep eo w dwxep. --Result on shift -6\n",
      "8 Nrxifqv fp klq xk xzq, fq fp x exyfq. --Result on shift -5\n",
      "9 Osyjgrw gq lmr yl yar, gr gq y fyzgr. --Result on shift -4\n",
      "10 Ptzkhsx hr mns zm zbs, hs hr z gzahs. --Result on shift -3\n",
      "11 Quality is not an act, it is a habit. --Result on shift -2\n",
      "12 Rvbmjuz jt opu bo bdu, ju jt b ibcju. --Result on shift -1\n",
      "13 Swcnkva ku pqv cp cev, kv ku c jcdkv. --Result on shift 0\n",
      "14 Txdolwb lv qrw dq dfw, lw lv d kdelw. --Result on shift 1\n",
      "15 Uyepmxc mw rsx er egx, mx mw e lefmx. --Result on shift 2\n",
      "16 Vzfqnyd nx sty fs fhy, ny nx f mfgny. --Result on shift 3\n",
      "17 Wagroze oy tuz gt giz, oz oy g nghoz. --Result on shift 4\n",
      "18 Xbhspaf pz uva hu hja, pa pz h ohipa. --Result on shift 5\n",
      "19 Ycitqbg qa vwb iv ikb, qb qa i pijqb. --Result on shift 6\n",
      "20 Zdjurch rb wxc jw jlc, rc rb j qjkrc. --Result on shift 7\n",
      "21 Aekvsdi sc xyd kx kmd, sd sc k rklsd. --Result on shift 8\n",
      "22 Bflwtej td yze ly lne, te td l slmte. --Result on shift 9\n",
      "23 Cgmxufk ue zaf mz mof, uf ue m tmnuf. --Result on shift 10\n",
      "24 Dhnyvgl vf abg na npg, vg vf n unovg. --Result on shift 11\n",
      "25 Eiozwhm wg bch ob oqh, wh wg o vopwh. --Result on shift 12\n",
      "26 Fjpaxin xh cdi pc pri, xi xh p wpqxi. --Result on shift 13\n"
     ]
    }
   ],
   "source": [
    "decrypt(\"Swcnkva ku pqv cp cev, kv ku c jcdkv.\")                       #call to decrypt function"
   ]
  },
  {
   "cell_type": "markdown",
   "metadata": {},
   "source": [
    "### Shift -2 gave the result \"Quality is not an act, it is a habit.\""
   ]
  },
  {
   "cell_type": "markdown",
   "metadata": {},
   "source": [
    "### Exercise 3.2.b"
   ]
  },
  {
   "cell_type": "code",
   "execution_count": 47,
   "metadata": {},
   "outputs": [
    {
     "name": "stdout",
     "output_type": "stream",
     "text": [
      "1 Rlzkk noonqstmhshdr zqd nesdm sgd adfhmmhmf ne fqdzs dmsdqoqhrdr. --Result on shift -12\n",
      "2 Small opportunities are often the beginning of great enterprises. --Result on shift -11\n",
      "3 Tnbmm pqqpsuvojujft bsf pgufo uif cfhjoojoh pg hsfbu foufsqsjtft. --Result on shift -10\n",
      "4 Uocnn qrrqtvwpkvkgu ctg qhvgp vjg dgikppkpi qh itgcv gpvgtrtkugu. --Result on shift -9\n",
      "5 Vpdoo rssruwxqlwlhv duh riwhq wkh ehjlqqlqj ri juhdw hqwhusulvhv. --Result on shift -8\n",
      "6 Wqepp sttsvxyrmxmiw evi sjxir xli fikmrrmrk sj kviex irxivtvmwiw. --Result on shift -7\n",
      "7 Xrfqq tuutwyzsnynjx fwj tkyjs ymj gjlnssnsl tk lwjfy jsyjwuwnxjx. --Result on shift -6\n",
      "8 Ysgrr uvvuxzatozoky gxk ulzkt znk hkmottotm ul mxkgz ktzkxvxoyky. --Result on shift -5\n",
      "9 Zthss vwwvyabupaplz hyl vmalu aol ilnpuupun vm nylha lualywypzlz. --Result on shift -4\n",
      "10 Auitt wxxwzbcvqbqma izm wnbmv bpm jmoqvvqvo wn ozmib mvbmzxzqama. --Result on shift -3\n",
      "11 Bvjuu xyyxacdwrcrnb jan xocnw cqn knprwwrwp xo panjc nwcnayarbnb. --Result on shift -2\n",
      "12 Cwkvv yzzybdexsdsoc kbo ypdox dro loqsxxsxq yp qbokd oxdobzbscoc. --Result on shift -1\n",
      "13 Dxlww zaazcefytetpd lcp zqepy esp mprtyytyr zq rcple pyepcactdpd. --Result on shift 0\n",
      "14 Eymxx abbadfgzufuqe mdq arfqz ftq nqsuzzuzs ar sdqmf qzfqdbdueqe. --Result on shift 1\n",
      "15 Fznyy bccbeghavgvrf ner bsgra gur ortvaavat bs terng ragrecevfrf. --Result on shift 2\n",
      "16 Gaozz cddcfhibwhwsg ofs cthsb hvs psuwbbwbu ct ufsoh sbhsfdfwgsg. --Result on shift 3\n",
      "17 Hbpaa deedgijcxixth pgt duitc iwt qtvxccxcv du vgtpi tcitgegxhth. --Result on shift 4\n",
      "18 Icqbb effehjkdyjyui qhu evjud jxu ruwyddydw ev whuqj udjuhfhyiui. --Result on shift 5\n",
      "19 Jdrcc fggfiklezkzvj riv fwkve kyv svxzeezex fw xivrk vekvigizjvj. --Result on shift 6\n",
      "20 Kesdd ghhgjlmfalawk sjw gxlwf lzw twyaffafy gx yjwsl wflwjhjakwk. --Result on shift 7\n",
      "21 Lftee hiihkmngbmbxl tkx hymxg max uxzbggbgz hy zkxtm xgmxkikblxl. --Result on shift 8\n",
      "22 Mguff ijjilnohcncym uly iznyh nby vyachhcha iz alyun yhnyljlcmym. --Result on shift 9\n",
      "23 Nhvgg jkkjmopidodzn vmz jaozi ocz wzbdiidib ja bmzvo ziozmkmdnzn. --Result on shift 10\n",
      "24 Oiwhh kllknpqjepeao wna kbpaj pda xacejjejc kb cnawp ajpanlneoao. --Result on shift 11\n",
      "25 Pjxii lmmloqrkfqfbp xob lcqbk qeb ybdfkkfkd lc dobxq bkqbomofpbp. --Result on shift 12\n",
      "26 Qkyjj mnnmprslgrgcq ypc mdrcl rfc zcegllgle md epcyr clrcpnpgqcq. --Result on shift 13\n"
     ]
    }
   ],
   "source": [
    "decrypt(\"Dxlww zaazcefytetpd lcp zqepy esp mprtyytyr zq rcple pyepcactdpd.\")        #call to decrypt function"
   ]
  },
  {
   "cell_type": "markdown",
   "metadata": {},
   "source": [
    "### Shift -11 gave the result \"Small opportunities are often the beginning of great enterprises.\""
   ]
  },
  {
   "cell_type": "markdown",
   "metadata": {},
   "source": [
    "### Exercise 3.2.c"
   ]
  },
  {
   "cell_type": "code",
   "execution_count": 48,
   "metadata": {},
   "outputs": [
    {
     "name": "stdout",
     "output_type": "stream",
     "text": [
      "1 Tqnm qa iv cvnwtlumvb, ivl bpm nczbpmz em bzidmt bpm uwzm bzcbp em kiv kwuxzmpmvl. Bw cvlmzabivl bpm bpqvoa bpib izm ib wcz lwwz qa bpm jmab xzmxizibqwv nwz cvlmzabivlqvo bpwam bpib tqm jmgwvl. --Result on shift -12\n",
      "2 Uron rb jw dwoxumvnwc, jwm cqn odacqna fn cajenu cqn vxan cadcq fn ljw lxvyanqnwm. Cx dwmnabcjwm cqn cqrwpb cqjc jan jc xda mxxa rb cqn knbc yanyjajcrxw oxa dwmnabcjwmrwp cqxbn cqjc urn knhxwm. --Result on shift -11\n",
      "3 Vspo sc kx expyvnwoxd, kxn dro pebdrob go dbkfov dro wybo dbedr go mkx mywzboroxn. Dy exnobcdkxn dro drsxqc drkd kbo kd yeb nyyb sc dro locd zbozkbkdsyx pyb exnobcdkxnsxq dryco drkd vso loiyxn. --Result on shift -10\n",
      "4 Wtqp td ly fyqzwoxpye, lyo esp qfcespc hp eclgpw esp xzcp ecfes hp nly nzxacpspyo. Ez fyopcdelyo esp estyrd esle lcp le zfc ozzc td esp mpde acpalcletzy qzc fyopcdelyotyr eszdp esle wtp mpjzyo. --Result on shift -9\n",
      "5 Xurq ue mz gzraxpyqzf, mzp ftq rgdftqd iq fdmhqx ftq yadq fdgft iq omz oaybdqtqzp. Fa gzpqdefmzp ftq ftuzse ftmf mdq mf agd paad ue ftq nqef bdqbmdmfuaz rad gzpqdefmzpuzs ftaeq ftmf xuq nqkazp. --Result on shift -8\n",
      "6 Yvsr vf na hasbyqzrag, naq gur shegure jr geniry gur zber gehgu jr pna pbzceruraq. Gb haqrefgnaq gur guvatf gung ner ng bhe qbbe vf gur orfg cercnengvba sbe haqrefgnaqvat gubfr gung yvr orlbaq. --Result on shift -7\n",
      "7 Zwts wg ob ibtczrasbh, obr hvs tifhvsf ks hfojsz hvs acfs hfihv ks qob qcadfsvsbr. Hc ibrsfghobr hvs hvwbug hvoh ofs oh cif rccf wg hvs psgh dfsdofohwcb tcf ibrsfghobrwbu hvcgs hvoh zws psmcbr. --Result on shift -6\n",
      "8 Axut xh pc jcudasbtci, pcs iwt ujgiwtg lt igpkta iwt bdgt igjiw lt rpc rdbegtwtcs. Id jcstghipcs iwt iwxcvh iwpi pgt pi djg sddg xh iwt qthi egtepgpixdc udg jcstghipcsxcv iwdht iwpi axt qtndcs. --Result on shift -5\n",
      "9 Byvu yi qd kdvebtcudj, qdt jxu vkhjxuh mu jhqlub jxu cehu jhkjx mu sqd secfhuxudt. Je kdtuhijqdt jxu jxydwi jxqj qhu qj ekh teeh yi jxu ruij fhufqhqjyed veh kdtuhijqdtydw jxeiu jxqj byu ruoedt. --Result on shift -4\n",
      "10 Czwv zj re lewfcudvek, reu kyv wlikyvi nv kirmvc kyv dfiv kilky nv tre tfdgivyveu. Kf leuvijkreu kyv kyzexj kyrk riv rk fli uffi zj kyv svjk givgrirkzfe wfi leuvijkreuzex kyfjv kyrk czv svpfeu. --Result on shift -3\n",
      "11 Daxw ak sf mfxgdvewfl, sfv lzw xmjlzwj ow ljsnwd lzw egjw ljmlz ow usf ugehjwzwfv. Lg mfvwjklsfv lzw lzafyk lzsl sjw sl gmj vggj ak lzw twkl hjwhsjslagf xgj mfvwjklsfvafy lzgkw lzsl daw twqgfv. --Result on shift -2\n",
      "12 Ebyx bl tg ngyhewfxgm, tgw max ynkmaxk px mktoxe max fhkx mknma px vtg vhfikxaxgw. Mh ngwxklmtgw max mabgzl matm tkx tm hnk whhk bl max uxlm ikxitktmbhg yhk ngwxklmtgwbgz mahlx matm ebx uxrhgw. --Result on shift -1\n",
      "13 Fczy cm uh ohzifxgyhn, uhx nby zolnbyl qy nlupyf nby gily nlonb qy wuh wigjlybyhx. Ni ohxylmnuhx nby nbcham nbun uly un iol xiil cm nby vymn jlyjuluncih zil ohxylmnuhxcha nbimy nbun fcy vysihx. --Result on shift 0\n",
      "14 Gdaz dn vi piajgyhzio, viy ocz apmoczm rz omvqzg ocz hjmz ompoc rz xvi xjhkmzcziy. Oj piyzmnoviy ocz ocdibn ocvo vmz vo jpm yjjm dn ocz wzno kmzkvmvodji ajm piyzmnoviydib ocjnz ocvo gdz wztjiy. --Result on shift 1\n",
      "15 Heba eo wj qjbkhziajp, wjz pda bqnpdan sa pnwrah pda ikna pnqpd sa ywj ykilnadajz. Pk qjzanopwjz pda pdejco pdwp wna wp kqn zkkn eo pda xaop lnalwnwpekj bkn qjzanopwjzejc pdkoa pdwp hea xaukjz. --Result on shift 2\n",
      "16 Ifcb fp xk rkcliajbkq, xka qeb croqebo tb qoxsbi qeb jlob qorqe tb zxk zljmobebka. Ql rkabopqxka qeb qefkdp qexq xob xq lro allo fp qeb ybpq mobmxoxqflk clo rkabopqxkafkd qelpb qexq ifb ybvlka. --Result on shift 3\n",
      "17 Jgdc gq yl sldmjbkclr, ylb rfc dsprfcp uc rpytcj rfc kmpc rpsrf uc ayl amknpcfclb. Rm slbcpqrylb rfc rfgleq rfyr ypc yr msp bmmp gq rfc zcqr npcnypyrgml dmp slbcpqrylbgle rfmqc rfyr jgc zcwmlb. --Result on shift 4\n",
      "18 Khed hr zm tmenkcldms, zmc sgd etqsgdq vd sqzudk sgd lnqd sqtsg vd bzm bnloqdgdmc. Sn tmcdqrszmc sgd sghmfr sgzs zqd zs ntq cnnq hr sgd adrs oqdozqzshnm enq tmcdqrszmchmf sgnrd sgzs khd adxnmc. --Result on shift 5\n",
      "19 Life is an unfoldment, and the further we travel the more truth we can comprehend. To understand the things that are at our door is the best preparation for understanding those that lie beyond. --Result on shift 6\n",
      "20 Mjgf jt bo vogpmenfou, boe uif gvsuifs xf usbwfm uif npsf usvui xf dbo dpnqsfifoe. Up voefstuboe uif uijoht uibu bsf bu pvs epps jt uif cftu qsfqbsbujpo gps voefstuboejoh uiptf uibu mjf cfzpoe. --Result on shift 7\n",
      "21 Nkhg ku cp wphqnfogpv, cpf vjg hwtvjgt yg vtcxgn vjg oqtg vtwvj yg ecp eqortgjgpf. Vq wpfgtuvcpf vjg vjkpiu vjcv ctg cv qwt fqqt ku vjg dguv rtgrctcvkqp hqt wpfgtuvcpfkpi vjqug vjcv nkg dgaqpf. --Result on shift 8\n",
      "22 Olih lv dq xqirogphqw, dqg wkh ixuwkhu zh wudyho wkh pruh wuxwk zh fdq frpsuhkhqg. Wr xqghuvwdqg wkh wklqjv wkdw duh dw rxu grru lv wkh ehvw suhsdudwlrq iru xqghuvwdqglqj wkrvh wkdw olh ehbrqg. --Result on shift 9\n",
      "23 Pmji mw er yrjsphqirx, erh xli jyvxliv ai xvezip xli qsvi xvyxl ai ger gsqtvilirh. Xs yrhivwxerh xli xlmrkw xlex evi ex syv hssv mw xli fiwx tvitevexmsr jsv yrhivwxerhmrk xlswi xlex pmi ficsrh. --Result on shift 10\n",
      "24 Qnkj nx fs zsktqirjsy, fsi ymj kzwymjw bj ywfajq ymj rtwj ywzym bj hfs htruwjmjsi. Yt zsijwxyfsi ymj ymnslx ymfy fwj fy tzw ittw nx ymj gjxy uwjufwfynts ktw zsijwxyfsinsl ymtxj ymfy qnj gjdtsi. --Result on shift 11\n",
      "25 Rolk oy gt atlurjsktz, gtj znk laxznkx ck zxgbkr znk suxk zxazn ck igt iusvxknktj. Zu atjkxyzgtj znk znotmy zngz gxk gz uax juux oy znk hkyz vxkvgxgzout lux atjkxyzgtjotm znuyk zngz rok hkeutj. --Result on shift 12\n",
      "26 Spml pz hu bumvsktlua, huk aol mbyaoly dl ayhcls aol tvyl aybao dl jhu jvtwyloluk. Av buklyzahuk aol aopunz aoha hyl ha vby kvvy pz aol ilza wylwhyhapvu mvy buklyzahukpun aovzl aoha spl ilfvuk. --Result on shift 13\n"
     ]
    }
   ],
   "source": [
    "decrypt(\"Fczy cm uh ohzifxgyhn, uhx nby zolnbyl qy nlupyf nby gily nlonb qy wuh wigjlybyhx. Ni ohxylmnuhx nby nbcham nbun uly un iol xiil cm nby vymn jlyjuluncih zil ohxylmnuhxcha nbimy nbun fcy vysihx.\")   #call to decrypt function"
   ]
  },
  {
   "cell_type": "markdown",
   "metadata": {},
   "source": [
    "### Shift 6 gave the result \"Life is an unfoldment, and the further we travel the more truth we can comprehend. To understand the things that are at our door is the best preparation for understanding those that lie beyond.\""
   ]
  }
 ],
 "metadata": {
  "kernelspec": {
   "display_name": "Python 3",
   "language": "python",
   "name": "python3"
  },
  "language_info": {
   "codemirror_mode": {
    "name": "ipython",
    "version": 3
   },
   "file_extension": ".py",
   "mimetype": "text/x-python",
   "name": "python",
   "nbconvert_exporter": "python",
   "pygments_lexer": "ipython3",
   "version": "3.7.3"
  }
 },
 "nbformat": 4,
 "nbformat_minor": 2
}
